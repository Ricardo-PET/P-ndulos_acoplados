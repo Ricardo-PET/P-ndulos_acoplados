{
 "cells": [
  {
   "cell_type": "markdown",
   "metadata": {},
   "source": [
    "# Pêndulos acoplados\n",
    "\n",
    "- PET - Física UFRN\n",
    "- Petiano: Ricardo C. S. Rêgo\n",
    "- Data: 19/08/20\n",
    "\n",
    "O objetivo deste projeto é simular dois pêndulos acoplados entre sí por meio de uma mola. Ele foi escrito em Python e usará conceitos de Física computacional na resolução de EDOs, portanto requer um conhecimento prévio no assunto para a melhor compreensão [1]. O problema foi inspirado pelo vídeo \"Coupled Pendulums - Sixty Symbols\" (https://www.youtube.com/watch?v=izy4a5erom8).\n",
    "\n",
    "**Importando as bibliotecas:**"
   ]
  },
  {
   "cell_type": "code",
   "execution_count": 10,
   "metadata": {},
   "outputs": [],
   "source": [
    "from matplotlib import pyplot as plt\n",
    "import numpy as np\n",
    "import mpl_toolkits.mplot3d.axes3d as p3\n",
    "from matplotlib import animation\n",
    "from matplotlib.pyplot import xlabel, ylabel\n",
    "from IPython.display import Image"
   ]
  },
  {
   "cell_type": "markdown",
   "metadata": {},
   "source": [
    "**Encontrando as EDOs**\n",
    "\n",
    "Considere duas massas $m$ iguais, cada uma presa á sua respectiva corda de temanho $L$, de forma tal que possam oscilar livremente. Se ligarmos estas massas por uma mola de constante elástica $k$, o movimento pendular de uma delas influênciará o movimento da outra e vice-versa, acoplando assim os dois pêndulos como na figura seguinte:\n",
    "\n",
    "<img src=\"004pendulosacoplados.jpg\">\n",
    "\n",
    "Antes de encontrarmos a equação para o movimento, vamos considerar também a aproximação para que $\\theta_1$ e $\\theta_2$ sejam ângulos sempre próximos de zero. Além disso, vale salientar que a mola simulada estará em uma posição relaxada quando $\\theta_1 = \\theta_2$, depois de definida uma distância $a$ adequada entre os pêndulos. Tendo isto em mente vamos encontrar a Lagrangiana:\n",
    "\n",
    "$$\\mathcal{L} = \\textbf{T} - \\textbf{V} $$\n",
    "\n",
    "Para uma massa presa em uma corda inestensível, o seu movimento pode ser descrito pelo arco de circunferência $\\textbf{s}$, derivando $\\textbf{s}$ com relação ao tempo temos a velocidade linear $\\textbf{v}$:\n",
    "\n",
    "$$\\textbf{s} = \\theta L e_{\\theta}$$"
   ]
  },
  {
   "cell_type": "markdown",
   "metadata": {},
   "source": [
    "$$\\textbf{v} = \\dfrac{d \\textbf{s}}{dt} =  \\dot{\\theta} L e_{\\theta}$$\n",
    "\n",
    "O módulo quadrado de $\\textbf{v}$ é dado por:\n",
    "\n",
    "$$v^2 = (\\dot{\\theta} L)^2$$\n",
    "\n",
    "No caso dos nossos pêndulos acoplados, a energia cinética $\\textbf{T}$ de todo o sistema é a soma das energias cinéticas de cada pêndulo, assim:\n",
    "\n",
    "$$\\textbf{T} = \\textbf{T}_1 + \\textbf{T}_2 = \\dfrac{m(\\dot{\\theta_1} L)^2}{2} + \\dfrac{m(\\dot{\\theta_2} L)^2}{2}$$\n",
    " "
   ]
  },
  {
   "cell_type": "markdown",
   "metadata": {},
   "source": [
    "$$\\boxed{\\textbf{T} = \\dfrac{m L^2}{2}(\\dot{\\theta_1}^2 + \\dot{\\theta_2}^2)}$$\n",
    "\n",
    "Para a energia potêncial $\\textbf{V}$ existem duas fontes de potencial no sistema, uma é a gravitacional e a outra é a elástica. Vamos primeiro analisar a gravitacional. Considere que a altura zero para ambos os pêndulos ocorre quando $\\theta_1 = \\theta_2 = 0$, e que para qualquer valor diferente deste o pêndulo estará em uma altura positiva, neste caso a altura dos pêndulos $h_1$ e $h_2$ são: \n",
    "\n",
    "$$h_1 = L(1-cos(\\theta_1))$$"
   ]
  },
  {
   "cell_type": "markdown",
   "metadata": {},
   "source": [
    "$$h_2 = L(1-cos(\\theta_2))$$\n",
    "\n",
    "Assim, a energia potencial gravitacional $\\textbf{V}_g$ para os dois pêndulos é dado por:\n",
    "\n",
    "$$\\textbf{V}_g = \\textbf{V}_{g1} + \\textbf{V}_{g2} = mgL(1-cos(\\theta_1)) + mgL(1-cos(\\theta_2))$$"
   ]
  },
  {
   "cell_type": "markdown",
   "metadata": {},
   "source": [
    "$$\\textbf{V}_g = 2mgL -mgL(cos(\\theta_1) + cos(\\theta_2))$$\n",
    "\n",
    "Agora analisando a energia potencial elástica. Como haviamos feito a aproximação para ângulos pequenos, vamos considerar que a mola é distendida apenas na horizontal, sendo o movimento descrito pelas componentes $x_1$ e $x_2$ os únicos relevantes para entendermos como a mola varia seu comprimento. Sabemos que a energia potencial elástica, para uma distensão $x$ em uma mola que obedece a lei de hooke, é dada por:\n",
    "\n",
    "$$V_{elastica} = \\dfrac{kx^2}{2}$$\n",
    "\n",
    "O quanto a mola varia seu comprimento em função de $\\theta_1$ e $\\theta_2$ é dado por:\n",
    "\n",
    "$$x = x_1 - x_2 =Lsin(\\theta_1) - Lsin(\\theta_2) = L(sin(\\theta_1) -sin(\\theta_2))$$\n",
    "\n",
    "Perceba que o valor de $x$ não depende da distância $a$ entre os pêndulos, isso ocorre porque definimos que a mola estará sempre relaxada quando $\\theta_1 = \\theta_2$, se observarmos o caso em que $\\theta_1 = \\theta_2 = 0$ por exemplo, fica evidente que o comprimento de repouso da mola foi definido como sendo o próprio $a$. Isto significa que uma vez definido uma distância $a$ adequada para a mola, uma distensão nela sempre se dará pela equação para $x$ apresentada acima. Assim, a equação para a energia potencial elástica é dada por:\n",
    "\n",
    "$$V_{elastica} = \\dfrac{kL^2}{2}(sin(\\theta_1) -sin(\\theta_2))^2$$\n",
    "\n",
    "Somando a contribuição do potencial elástico com o potencial gravitacional, a energia potencial total do sistema é dada por:\n",
    "\n",
    "$$\\textbf{V} = \\textbf{V}_g + V_{elastica}$$"
   ]
  },
  {
   "cell_type": "markdown",
   "metadata": {},
   "source": [
    "$$ \\boxed{\\textbf{V} = 2mgL -mgL(cos(\\theta_1) + cos(\\theta_2)) + \\dfrac{kL^2}{2}(sin(\\theta_1) -sin(\\theta_2))^2}$$\n",
    "\n",
    "E a lagrangiana assume a forma:\n",
    "\n",
    "$$\\boxed{\\mathcal{L} = \\dfrac{m L^2}{2}(\\dot{\\theta_1}^2 + \\dot{\\theta_2}^2) -2mgL + mgL(cos(\\theta_1) + cos(\\theta_2)) - \\dfrac{kL^2}{2}(sin(\\theta_1) -sin(\\theta_2))^2}$$\n",
    "\n",
    "A equação de Euler para coordenadas genéricas $q_i$ é:\n",
    "\n",
    "$$\\dfrac{\\partial \\mathcal{L}}{\\partial q_i}-\\dfrac{d}{dt}\\dfrac{\\partial \\mathcal{L}}{\\partial \\dot{q}_i} = 0$$\n",
    "\n",
    "Resolvendo a equação de euler para $q_i = \\theta_1$:\n",
    "\n",
    "$$\\dfrac{\\partial \\mathcal{L}}{\\partial \\theta_1} - \\dfrac{d}{dt} \\dfrac{\\partial \\mathcal{L}}{\\partial \\dot{\\theta_1}} = 0$$"
   ]
  },
  {
   "cell_type": "markdown",
   "metadata": {},
   "source": [
    "$$\\dfrac{\\partial \\mathcal{L}}{\\partial \\theta_1} = -kL^2 (sin(\\theta_1) -sin(\\theta_2))cos(\\theta_1) -mgLsin(\\theta_1)$$"
   ]
  },
  {
   "cell_type": "markdown",
   "metadata": {},
   "source": [
    "$$\\dfrac{\\partial \\mathcal{L}}{\\partial \\dot{\\theta_1}} = mL^2 \\dot{\\theta_1}$$"
   ]
  },
  {
   "cell_type": "markdown",
   "metadata": {},
   "source": [
    "$$\\dfrac{d}{dt}\\dfrac{\\partial \\mathcal{L}}{\\partial \\dot{\\theta_1}} = mL^2 \\ddot{\\theta_1}$$\n",
    "\n",
    "Logo,\n",
    "\n",
    "$$\\boxed{\\ddot{\\theta_1} = -\\dfrac{k}{m}(sin(\\theta_1)-sin(\\theta_2))cos(\\theta_1) -\\dfrac{g}{L}sin(\\theta_1)}$$\n",
    "\n",
    "Resolvendo a equação de euler para $q_i = \\theta_2$:\n",
    "\n",
    "$$\\dfrac{\\partial \\mathcal{L}}{\\partial \\theta_2} - \\dfrac{d}{dt} \\dfrac{\\partial \\mathcal{L}}{\\partial \\dot{\\theta_2}} = 0$$"
   ]
  },
  {
   "cell_type": "markdown",
   "metadata": {},
   "source": [
    "$$\\dfrac{\\partial \\mathcal{L}}{\\partial \\theta_2} = kL^2 (sin(\\theta_1) -sin(\\theta_2))cos(\\theta_2) -mgLsin(\\theta_2)$$"
   ]
  },
  {
   "cell_type": "markdown",
   "metadata": {},
   "source": [
    "$$\\dfrac{\\partial \\mathcal{L}}{\\partial \\dot{\\theta_2}} = mL^2 \\dot{\\theta_2}$$"
   ]
  },
  {
   "cell_type": "markdown",
   "metadata": {},
   "source": [
    "$$\\dfrac{d}{dt}\\dfrac{\\partial \\mathcal{L}}{\\partial \\dot{\\theta_2}} = mL^2 \\ddot{\\theta_2}$$\n",
    "\n",
    "Logo,\n",
    "\n",
    "$$\\boxed{\\ddot{\\theta_2} = \\dfrac{k}{m}(sin(\\theta_1)-sin(\\theta_2))cos(\\theta_2) -\\dfrac{g}{L}sin(\\theta_2)}$$\n",
    "\n",
    "Caso fossemos resolver estas duas EDOs analiticamente, seria interessante utilizar a aproximação de que os ângulos $\\theta_1$ e $\\theta_2$ são muito pequenos de forma que $sin(\\theta) = \\theta$ e $cos(\\theta) = 1$. Mas como estamos resolvendo computacionalmente, não faz muita diferença escolhermos entre um ou outro, por isso vamos considerar as relações para $\\ddot{\\theta_1}$ e $\\ddot{\\theta_2}$ como descritas acima, sem modifica-las. Entretanto, isto não significa que os ângulos $\\theta_1$ e $\\theta_2$ possam ter qualquer valor, como disse anteriormente, a aproximação para ângulos pequenos é fundamental para que possamos considerar que a mola se distende apenas na horizontal, para ângulos muito longe de zero esta aproximação pode não fazer sentido.\n",
    "\n",
    "**Criando uma função com as EDOs**"
   ]
  },
  {
   "cell_type": "code",
   "execution_count": 2,
   "metadata": {},
   "outputs": [],
   "source": [
    "def f(r,t):\n",
    "    theta1,theta1_1p,theta2,theta2_1p = r[0],r[1],r[2],r[3]\n",
    "\n",
    "    theta1_2p = -(g/L)*np.sin(theta1) - (k/m)*(np.sin(theta1)-np.sin(theta2))\n",
    "    theta2_2p = -(g/L)*np.sin(theta2) + (k/m)*(np.sin(theta1)-np.sin(theta2))\n",
    "    \n",
    "    return np.array([theta1_1p,theta1_2p,theta2_1p,theta2_2p])"
   ]
  },
  {
   "cell_type": "markdown",
   "metadata": {},
   "source": [
    "**Criando uma função para o método Runge Kutta:**\n",
    "\n",
    "O método Runge Kutta de quarta ordem é um método computacional bastante preciso, usado para resolver equações diferenciais. Na verdade, ele é um conjunto de métodos para resolver EDOs, que incluem por exemplo o método de Euler. Seu funcionamento basicamente consiste em receber dados iniciais de uma função e dizer onde ela estará no passo seguinte."
   ]
  },
  {
   "cell_type": "code",
   "execution_count": 3,
   "metadata": {},
   "outputs": [],
   "source": [
    "def RK4(r,t):\n",
    "    k1 = h*f(r,t)\n",
    "    k2 = h*f(r+k1/2,t+h/2)\n",
    "    k3 = h*f(r+k2/2,t+h/2)\n",
    "    k4 = h*f(r+k3,t+h)\n",
    "    return r + (1/6)*(k1+2*k2+2*k3+k4)"
   ]
  },
  {
   "cell_type": "markdown",
   "metadata": {},
   "source": [
    "**Definindo os parâmetros e constantes**\n",
    "\n",
    "A nossa simulação ocorrerá entre o de tempo $a$ e $b$, onde $h$ é o intervalo de tempo entre as $N$ iterações. Vamos considerar a massa $m$ nos pêndulos, o comprimento $L$ e a constante $k$ como tendo todos o valor 1.0 (guardado as devidas unidades), já o termo $p$ será usado apenas para ajudar a localizar os dois pêndulos no sistema de coordenadas."
   ]
  },
  {
   "cell_type": "code",
   "execution_count": 4,
   "metadata": {},
   "outputs": [],
   "source": [
    "a = 0\n",
    "b = 20.0\n",
    "L = 1.0\n",
    "m = 1.0\n",
    "g = 9.81\n",
    "k = 1.0\n",
    "p = 0.25*L\n",
    "N = 500\n",
    "h = (b-a)/N\n",
    "t = a"
   ]
  },
  {
   "cell_type": "markdown",
   "metadata": {},
   "source": [
    "As listas $Theta1$ e $Theta2$ serão usadas para guardar os valores de $\\theta_1$ e $\\theta_2$ em cada iteração da simulação, mais adiante serão uteis tanto para a simulação do movimento pendular quando para a geração do gráfico de theta em função do tempo. As condições iniciais do sistema serão: $\\dot{\\theta_1} = \\theta_2 = \\dot{\\theta_2} = 0.0$ e $\\theta_1 = -0.1.$"
   ]
  },
  {
   "cell_type": "code",
   "execution_count": 5,
   "metadata": {},
   "outputs": [],
   "source": [
    "theta1, theta1_1p, theta2, theta2_1p = -0.1,0.0,0.0,0.0\n",
    "Theta1 = []\n",
    "Theta2 = []\n",
    "r = np.array([theta1,theta1_1p,theta2,theta2_1p])"
   ]
  },
  {
   "cell_type": "markdown",
   "metadata": {},
   "source": [
    "**Resolvendo as EDOs**"
   ]
  },
  {
   "cell_type": "code",
   "execution_count": 6,
   "metadata": {},
   "outputs": [],
   "source": [
    "while(t<b):\n",
    "    Theta1.append(r[0])\n",
    "    Theta2.append(r[2])\n",
    "    r = RK4(r,t) \n",
    "    t+=h"
   ]
  },
  {
   "cell_type": "markdown",
   "metadata": {},
   "source": [
    "**Plotando o gráfico $\\theta = \\theta(t)$**\n",
    "\n",
    "Antes de simularmos a animação, vamos ver como é a dependência de $\\theta_1$ e $\\theta_2$ com relação ao tempo, para termos uma ideia de como vai ser o movimento dos pêndulos."
   ]
  },
  {
   "cell_type": "code",
   "execution_count": 7,
   "metadata": {},
   "outputs": [
    {
     "data": {
      "image/png": "[encoded data removed]",
      "text/plain": [
       "<Figure size 432x288 with 1 Axes>"
      ]
     },
     "metadata": {
      "needs_background": "light"
     },
     "output_type": "display_data"
    }
   ],
   "source": [
    "xlabel(\"t [s]\")\n",
    "ylabel(\"theta [rad]\")\n",
    "plt.plot(Theta1)\n",
    "plt.plot(Theta2)\n",
    "plt.show()"
   ]
  },
  {
   "cell_type": "markdown",
   "metadata": {},
   "source": [
    "No gráfico podemos perceber claramente que quando o movimento de um pêndulo diminui o outro aumenta, isso ocorre justamente por eles estarem acoplados entre sí, mais precisamente, a energia de um dos pêndulos é transferida para o outro por meio da mola, e vice-versa. Esta característica de transferência de energia cria a impressão (se olharmos para apenas um dos pêndulos) de que o pêndulo para e volta a balançar por sí só, como se a energia estivesse \"sumindo\" e \"reaparecendo\" logo em seguida.\n",
    "\n",
    "**Preparando a animação**\n",
    "\n",
    "Antes de qualquer coisa, vamos chamar a função figure (que é necessária para criar os eventos da animação) e a função Axes3D (que pode ser usada caso queira ver os eixos coordenados), entretanto. Para limitar a animação uzamos as funções set_xlim3d (e suas variações para cada eixo), centralizando a imagem na animação do movimento dos dois pêndulos. Para melhor visualizarmos vamos considerar os dois pêndulos e a mola oscilando no plano $x-z$, deixando o eixo $y$ livre, além disso vamos criar duas esferas azuis para representar as massas, duas linhas pretas para serem os cabos dos pêndulos e uma linha amarelada para representar a mola."
   ]
  },
  {
   "cell_type": "code",
   "execution_count": null,
   "metadata": {},
   "outputs": [],
   "source": [
    "fig = plt.figure()\n",
    "ax = p3.Axes3D(fig)\n",
    "\n",
    "ax.set_xlim3d([-2*p, 2*p])\n",
    "ax.set_ylim3d([-2*p, 2*p])\n",
    "ax.set_zlim3d([-2*p, L])\n",
    "\n",
    "point1, = ax.plot([],[], '.', color='b')\n",
    "point2, = ax.plot([],[], '.', color='b')\n",
    "line1, = ax.plot([],[],'-', color='k',lw=2)\n",
    "line2, = ax.plot([],[],'-', color='k',lw=2)\n",
    "mola, = ax.plot([],[],'-', color='y',lw=2)\n",
    "\n",
    "x1, y1, z1, x2, y2, z2 = L*np.sin(Theta1)-p, 0, L*(1-np.cos(Theta1)), L*np.sin(Theta2)+p, 0, L*(1-np.cos(Theta2))"
   ]
  },
  {
   "cell_type": "markdown",
   "metadata": {},
   "source": [
    "O processo de animação (atualização das posições dos pontos e retas) vai se dar por meio da função update_point. Ela vai pegar os dados encontrados na solução das EDOs, que foram salvos nas listas $x_1, y_1, z_1, x_2, y_2$ e $z_2$ e os vão plotando para gerar as bolar azuis (representando as massas) e as três linhas (represetando a mola e os dois cabos)."
   ]
  },
  {
   "cell_type": "code",
   "execution_count": null,
   "metadata": {},
   "outputs": [],
   "source": [
    "def update_point(num, *fargs):\n",
    "    new_x1 = np.array([-p,x1[num]])\n",
    "    new_y1 = np.array([0,y1])\n",
    "    new_z1 = np.array([L,z1[num]])\n",
    "    new_x2 = np.array([p,x2[num]])\n",
    "    new_y2 = np.array([0,y2])\n",
    "    new_z2 = np.array([L,z2[num]])\n",
    "    new_molax = np.array([x1[num],x2[num]])\n",
    "    new_molay = np.array([0,0])\n",
    "    new_molaz = np.array([z1[num],z2[num]])\n",
    "\n",
    "    line1.set_data(new_x1,new_y1)\n",
    "    line1.set_3d_properties(new_z1, 'z')\n",
    "    line2.set_data(new_x2,new_y2)\n",
    "    line2.set_3d_properties(new_z2, 'z')\n",
    "\n",
    "    mola.set_data(new_molax,new_molay)\n",
    "    mola.set_3d_properties(new_molaz, 'z')\n",
    "    \n",
    "    point1.set_data(x1[num],y1)\n",
    "    point1.set_3d_properties(z1[num], 'z')\n",
    "    point2.set_data(x2[num],y2)\n",
    "    point2.set_3d_properties(z2[num], 'z')\n",
    "\n",
    "    return line1,line2,point1,point2,mola"
   ]
  },
  {
   "cell_type": "markdown",
   "metadata": {},
   "source": [
    "**Animando o pêndulo**\n",
    "\n",
    "Por fim, vamos chamar a função FuncAnimation para animar os objetos criados em 3D. OBS: Para visualizar no seu computador antes compile: %matplotlib qt"
   ]
  },
  {
   "cell_type": "code",
   "execution_count": null,
   "metadata": {},
   "outputs": [],
   "source": [
    "ani=animation.FuncAnimation(fig, update_point, N,fargs = (x1,y1,z1,x1,y2,z2,n), repeat= True, interval = 10**(-4))\n",
    "plt.show()"
   ]
  },
  {
   "cell_type": "code",
   "execution_count": 8,
   "metadata": {},
   "outputs": [
    {
     "data": {
      "text/html": [
       "<img src=\"https://media.giphy.com/media/0Grtwo7KR7QSDnF6mD/giphy.gif\"/>"
      ],
      "text/plain": [
       "<IPython.core.display.Image object>"
      ]
     },
     "execution_count": 8,
     "metadata": {},
     "output_type": "execute_result"
    }
   ],
   "source": [
    "Image(url='https://media.giphy.com/media/0Grtwo7KR7QSDnF6mD/giphy.gif')"
   ]
  },
  {
   "cell_type": "markdown",
   "metadata": {},
   "source": [
    "**Outra forma de visualização**\n",
    "\n",
    "Para analisarmos melhor a propriedade de transferência de energia entre os pêndulos por causa do acoplamento, vamos criar uma nova simulação ignorando a representação da mola e adicionando um rastro para as massas do pêndulo. "
   ]
  },
  {
   "cell_type": "code",
   "execution_count": 9,
   "metadata": {},
   "outputs": [
    {
     "data": {
      "text/html": [
       "<img src=\"https://media.giphy.com/media/UFKYthLYCHaQrGhX2o/giphy.gif\"/>"
      ],
      "text/plain": [
       "<IPython.core.display.Image object>"
      ]
     },
     "execution_count": 9,
     "metadata": {},
     "output_type": "execute_result"
    }
   ],
   "source": [
    "Image(url='https://media.giphy.com/media/UFKYthLYCHaQrGhX2o/giphy.gif')"
   ]
  },
  {
   "cell_type": "markdown",
   "metadata": {},
   "source": [
    "Perceba que, de fato, quando um dos pêndulos diminui sua amplitude de oscilação o outro aumenta, caracterizando assim a transferência de energia entre eles."
   ]
  },
  {
   "cell_type": "markdown",
   "metadata": {},
   "source": [
    "**Referências:**\n",
    "\n",
    "    [1] Mark Newman-Computational Physics (2013,University of Michigan) "
   ]
  }
 ],
 "metadata": {
  "kernelspec": {
   "display_name": "Python 3",
   "language": "python",
   "name": "python3"
  },
  "language_info": {
   "codemirror_mode": {
    "name": "ipython",
    "version": 3
   },
   "file_extension": ".py",
   "mimetype": "text/x-python",
   "name": "python",
   "nbconvert_exporter": "python",
   "pygments_lexer": "ipython3",
   "version": "3.6.8"
  }
 },
 "nbformat": 4,
 "nbformat_minor": 2
}
